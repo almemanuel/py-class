{
 "cells": [
  {
   "cell_type": "markdown",
   "source": [
    "# Classes e Tipos"
   ],
   "metadata": {}
  },
  {
   "cell_type": "markdown",
   "source": [
    "## Classes para Objetos\n",
    "- Atributos: aquilo que o objeto tem como característica\n",
    "- Métodos: ações que o objeto executa"
   ],
   "metadata": {}
  },
  {
   "cell_type": "markdown",
   "source": [
    "## Classes para Tipos\n",
    "- Atributos: Aquilo que o tipo necessita como definição\n",
    "- Métodos: Possíveis funções embutidas em um tipo de dado"
   ],
   "metadata": {}
  },
  {
   "cell_type": "markdown",
   "source": [
    "Todos os atributos e métodos da classe são públicos\n",
    "\n",
    "Por convenção, os atributos que iniciam com ```_``` são privados\n",
    "\n",
    "```self``` deve ser passado para todos os métodos"
   ],
   "metadata": {}
  },
  {
   "cell_type": "markdown",
   "source": [
    "## Sintaxe"
   ],
   "metadata": {}
  },
  {
   "cell_type": "code",
   "execution_count": 34,
   "source": [
    "class Nome_da_Classe:\n",
    "    # __init__ não é obrigatório em toda classe\n",
    "    # este método é executado sempre que a classe é iniciada\n",
    "    # define os atributos da classe. Nem todos os atributos precisam ser passados externamente, mas apenas os que são argumentos de __init__\n",
    "    # self referencia o objeto a ele mesmo, ou seja, diz que são atributos da própria classe\n",
    "    def __init__(self, argumento1, argumento2):\n",
    "        self.atributo1 = argumento1\n",
    "        self.atributo2 = argumento2\n",
    "\n",
    "    def _privado(self):\n",
    "        pass\n",
    "\n",
    "    def metodo1(self):\n",
    "        return 'ok'\n",
    "\n",
    "    def metodo2(self, valor):\n",
    "        return self.atributo2 * valor\n",
    "\n",
    "    @property ## decorador que define uma propriedade a partir de algum atributo\n",
    "    def prop(self):\n",
    "        pass\n",
    "\n",
    "    # __repr__ é a representação do objeto\n",
    "    # __<>__ (dunder) definem métodos 'mágicos'\n",
    "    def __repr__(self):\n",
    "        return f'{self.atributo1}, {self.atributo2}'"
   ],
   "outputs": [],
   "metadata": {}
  },
  {
   "cell_type": "markdown",
   "source": [
    "__Instanciar uma classe__ é o ato de atribuir as características de uma classe a um objeto usável"
   ],
   "metadata": {}
  },
  {
   "cell_type": "code",
   "execution_count": 35,
   "source": [
    "objeto = Nome_da_Classe(\"abc\", \"xyz\")"
   ],
   "outputs": [],
   "metadata": {}
  },
  {
   "cell_type": "code",
   "execution_count": 36,
   "source": [
    "objeto.atributo1"
   ],
   "outputs": [
    {
     "output_type": "execute_result",
     "data": {
      "text/plain": [
       "'abc'"
      ]
     },
     "metadata": {},
     "execution_count": 36
    }
   ],
   "metadata": {}
  },
  {
   "cell_type": "code",
   "execution_count": 37,
   "source": [
    "objeto.atributo2"
   ],
   "outputs": [
    {
     "output_type": "execute_result",
     "data": {
      "text/plain": [
       "'xyz'"
      ]
     },
     "metadata": {},
     "execution_count": 37
    }
   ],
   "metadata": {}
  },
  {
   "cell_type": "code",
   "execution_count": 38,
   "source": [
    "objeto.metodo1()"
   ],
   "outputs": [
    {
     "output_type": "execute_result",
     "data": {
      "text/plain": [
       "'ok'"
      ]
     },
     "metadata": {},
     "execution_count": 38
    }
   ],
   "metadata": {}
  },
  {
   "cell_type": "code",
   "execution_count": 39,
   "source": [
    "objeto.metodo2(3)"
   ],
   "outputs": [
    {
     "output_type": "execute_result",
     "data": {
      "text/plain": [
       "'xyzxyzxyz'"
      ]
     },
     "metadata": {},
     "execution_count": 39
    }
   ],
   "metadata": {}
  },
  {
   "cell_type": "code",
   "execution_count": 40,
   "source": [
    "objeto"
   ],
   "outputs": [
    {
     "output_type": "execute_result",
     "data": {
      "text/plain": [
       "abc, xyz"
      ]
     },
     "metadata": {},
     "execution_count": 40
    }
   ],
   "metadata": {}
  },
  {
   "cell_type": "markdown",
   "source": [
    "## Herança\n",
    "Uma classe pode herdar características de outra"
   ],
   "metadata": {}
  },
  {
   "cell_type": "code",
   "execution_count": 41,
   "source": [
    "class Nova_Classe(Nome_da_Classe):\n",
    "    pass"
   ],
   "outputs": [],
   "metadata": {}
  },
  {
   "cell_type": "code",
   "execution_count": 42,
   "source": [
    "novo_objeto = Nova_Classe('def', 'uvw')"
   ],
   "outputs": [],
   "metadata": {}
  },
  {
   "cell_type": "code",
   "execution_count": 44,
   "source": [
    "novo_objeto.atributo1"
   ],
   "outputs": [
    {
     "output_type": "execute_result",
     "data": {
      "text/plain": [
       "'def'"
      ]
     },
     "metadata": {},
     "execution_count": 44
    }
   ],
   "metadata": {}
  },
  {
   "cell_type": "code",
   "execution_count": 45,
   "source": [
    "novo_objeto.atributo2"
   ],
   "outputs": [
    {
     "output_type": "execute_result",
     "data": {
      "text/plain": [
       "'uvw'"
      ]
     },
     "metadata": {},
     "execution_count": 45
    }
   ],
   "metadata": {}
  }
 ],
 "metadata": {
  "orig_nbformat": 4,
  "language_info": {
   "name": "python",
   "version": "3.9.7",
   "mimetype": "text/x-python",
   "codemirror_mode": {
    "name": "ipython",
    "version": 3
   },
   "pygments_lexer": "ipython3",
   "nbconvert_exporter": "python",
   "file_extension": ".py"
  },
  "kernelspec": {
   "name": "python3",
   "display_name": "Python 3.9.7 64-bit"
  },
  "interpreter": {
   "hash": "aee8b7b246df8f9039afb4144a1f6fd8d2ca17a180786b69acc140d282b71a49"
  }
 },
 "nbformat": 4,
 "nbformat_minor": 2
}