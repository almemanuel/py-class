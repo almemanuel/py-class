{
 "cells": [
  {
   "cell_type": "markdown",
   "source": [
    "# Classes e Tipos"
   ],
   "metadata": {}
  },
  {
   "cell_type": "markdown",
   "source": [
    "## Classes para Objetos\n",
    "- Atributos: aquilo que o objeto tem como característica\n",
    "- Métodos: ações que o objeto executa"
   ],
   "metadata": {}
  },
  {
   "cell_type": "markdown",
   "source": [
    "## Classes para Tipos\n",
    "- Atributos: Aquilo que o tipo necessita como definição\n",
    "- Métodos: Possíveis funções embutidas em um tipo de dado"
   ],
   "metadata": {}
  },
  {
   "cell_type": "markdown",
   "source": [
    "Todos os atributos e métodos da classe são públicos\n",
    "\n",
    "Por convenção, os atributos que iniciam com ```_``` são privados\n",
    "\n",
    "```self``` deve ser passado para todos os métodos"
   ],
   "metadata": {}
  },
  {
   "cell_type": "markdown",
   "source": [
    "## Sintaxe"
   ],
   "metadata": {}
  },
  {
   "cell_type": "code",
   "execution_count": 3,
   "source": [
    "class Nome_da_Classe:\n",
    "    # __init__ não é obrigatório em toda classe\n",
    "    # este método é executado sempre que a classe é iniciada\n",
    "    # defini os atributos da classe\n",
    "    # self referencia o objeto a ele mesmo, ou seja, diz que são atributos da própria classe\n",
    "    def __init__(self, argumento1, argumento2):\n",
    "        self.atributo1 = argumento1\n",
    "        self.atributo2 = argumento2\n",
    "\n",
    "    def _privado(self, valor):\n",
    "        pass\n",
    "\n",
    "    def metodo1(self):\n",
    "        return self._privado(atributo1)\n",
    "\n",
    "    def metodo2(self, valor):\n",
    "        return self.atributo2 * valor"
   ],
   "outputs": [],
   "metadata": {}
  },
  {
   "cell_type": "markdown",
   "source": [
    "__Instanciar uma classe__ é o ato de atribuir as características de uma classe a um objeto usável"
   ],
   "metadata": {}
  },
  {
   "cell_type": "markdown",
   "source": [],
   "metadata": {}
  },
  {
   "cell_type": "code",
   "execution_count": 4,
   "source": [
    "objeto = Nome_da_Classe(\"abc\", \"xyz\")"
   ],
   "outputs": [],
   "metadata": {}
  }
 ],
 "metadata": {
  "orig_nbformat": 4,
  "language_info": {
   "name": "python",
   "version": "3.9.7",
   "mimetype": "text/x-python",
   "codemirror_mode": {
    "name": "ipython",
    "version": 3
   },
   "pygments_lexer": "ipython3",
   "nbconvert_exporter": "python",
   "file_extension": ".py"
  },
  "kernelspec": {
   "name": "python3",
   "display_name": "Python 3.9.7 64-bit"
  },
  "interpreter": {
   "hash": "aee8b7b246df8f9039afb4144a1f6fd8d2ca17a180786b69acc140d282b71a49"
  }
 },
 "nbformat": 4,
 "nbformat_minor": 2
}